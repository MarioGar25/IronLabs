{
 "cells": [
  {
   "cell_type": "code",
   "execution_count": 1,
   "metadata": {},
   "outputs": [],
   "source": [
    "list = []"
   ]
  },
  {
   "cell_type": "code",
   "execution_count": 2,
   "metadata": {},
   "outputs": [
    {
     "data": {
      "text/plain": [
       "False"
      ]
     },
     "execution_count": 2,
     "metadata": {},
     "output_type": "execute_result"
    }
   ],
   "source": [
    "list == 0"
   ]
  },
  {
   "cell_type": "code",
   "execution_count": 13,
   "metadata": {},
   "outputs": [],
   "source": [
    "class Soldier:\n",
    "    def __init__(self, health, strength):\n",
    "        self.health = health\n",
    "        self.strength = strength\n",
    "    def attack(self):\n",
    "        return self.strength\n",
    "    def receiveDamage(self, damage):\n",
    "        self.damage = damage\n",
    "        self.health = self.health - self.damage\n",
    "\n",
    "\n",
    "class Viking(Soldier):\n",
    "    def __init__(self, name, health, strength):\n",
    "        self.name = name\n",
    "        super().__init__(health, strength)\n",
    "    def receiveDamage(self, damage):\n",
    "        super().receiveDamage(damage)\n",
    "        if self.health > 0:\n",
    "            return f\"{self.name} has received {self.damage} points of damage\"\n",
    "        else:\n",
    "            return f\"{self.name} has died in act of combat\"\n",
    "    def battleCry(self):\n",
    "        return \"Odin Owns You All!\"\n",
    "\n",
    "\n",
    "class Saxon(Soldier):\n",
    "    def __init__(self, health, strength):\n",
    "        super().__init__(health, strength)\n",
    "    def receiveDamage(self, damage):\n",
    "        super().receiveDamage(damage)\n",
    "        if self.health > 0:\n",
    "            return f\"A Saxon has received {self.damage} points of damage\"\n",
    "        else:\n",
    "            return f\"A Saxon has died in combat\"\n",
    "            \n",
    "import random\n",
    "class War(Viking, Saxon):\n",
    "    def __init__(self):\n",
    "        self.vikingArmy = []\n",
    "        self.saxonArmy = []\n",
    "    def addViking(self, Viking):\n",
    "        self.vikingArmy.append(Viking)\n",
    "    def addSaxon(self, Saxon):\n",
    "        self.saxonArmy.append(Saxon)\n",
    "    def vikingAttack(self): \n",
    "        random.shuffle(self.saxonArmy)\n",
    "        s = Saxon.receiveDamage(self, random.shuffle(self.vikingArmy))\n",
    "        if s <= 0:\n",
    "            self.saxonArmy.remove(Saxon)\n",
    "        else:\n",
    "            return receivedDamage(Saxon, Viking)\n",
    "    def saxonAttack(self):\n",
    "        random.shuffle(self.vikingArmy)\n",
    "        v =  Viking.receiveDamage(self, random.shuffle(self.saxonArmy))\n",
    "        if v <= 0:\n",
    "            self.vikingArmy.remove(Viking)\n",
    "        else:\n",
    "            return receivedDamage(Viking)\n",
    "    def showStatus(self):\n",
    "        if len(self.saxonArmy) == 0:\n",
    "            return \"Viking have won the war of the century\"\n",
    "        elif len(self.vikingArmy) == 0:\n",
    "            return \"Saxon have fought for their lives and survive another day...\"\n",
    "        elif len(self.saxonArmy) and len(self.vikingArmy) == 1:\n",
    "            return \"Vikings and Saxons are still in the thick of battle.\""
   ]
  },
  {
   "cell_type": "code",
   "execution_count": 15,
   "metadata": {},
   "outputs": [
    {
     "data": {
      "text/plain": [
       "__main__.Saxon"
      ]
     },
     "execution_count": 15,
     "metadata": {},
     "output_type": "execute_result"
    }
   ],
   "source": [
    "Saxon"
   ]
  },
  {
   "cell_type": "code",
   "execution_count": 17,
   "metadata": {},
   "outputs": [],
   "source": [
    "s = Saxon (12,13)\n"
   ]
  },
  {
   "cell_type": "code",
   "execution_count": 23,
   "metadata": {},
   "outputs": [
    {
     "data": {
      "text/plain": [
       "13"
      ]
     },
     "execution_count": 23,
     "metadata": {},
     "output_type": "execute_result"
    }
   ],
   "source": [
    "s.strength\n"
   ]
  },
  {
   "cell_type": "code",
   "execution_count": null,
   "metadata": {},
   "outputs": [],
   "source": []
  },
  {
   "cell_type": "code",
   "execution_count": null,
   "metadata": {},
   "outputs": [],
   "source": []
  },
  {
   "cell_type": "code",
   "execution_count": null,
   "metadata": {},
   "outputs": [],
   "source": []
  }
 ],
 "metadata": {
  "kernelspec": {
   "display_name": "Python 3",
   "language": "python",
   "name": "python3"
  },
  "language_info": {
   "codemirror_mode": {
    "name": "ipython",
    "version": 3
   },
   "file_extension": ".py",
   "mimetype": "text/x-python",
   "name": "python",
   "nbconvert_exporter": "python",
   "pygments_lexer": "ipython3",
   "version": "3.8.5"
  }
 },
 "nbformat": 4,
 "nbformat_minor": 4
}
