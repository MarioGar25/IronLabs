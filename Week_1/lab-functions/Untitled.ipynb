{
 "cells": [
  {
   "cell_type": "code",
   "execution_count": null,
   "metadata": {},
   "outputs": [],
   "source": [
    "gandalf_media = []\n",
    "saruman_media = []\n",
    "for gandalf_d in gandalf_power[0]:\n",
    "    gandalf_des = (gandalf_d - av_gandalf)**2\n",
    "    gandalf_media.append(gandalf_des)\n",
    "    sum_gandalf_media = sum(gandalf_media)\n",
    "    standard_desviation_gandalf = math.sqrt(sum_gandalf_media / len(gandalf_power[0]))"
   ]
  },
  {
   "cell_type": "code",
   "execution_count": 13,
   "metadata": {},
   "outputs": [],
   "source": [
    "def st_dev(arr):\n",
    "    total = 0\n",
    "    le_number = 0\n",
    "    suma_total = 0\n",
    "    arr_desviation = []\n",
    "    for numeros in arr:\n",
    "        total += numeros\n",
    "        le_number += 1\n",
    "    \n",
    "    mean = total/le_number\n",
    "    \n",
    "    for desviation in arr:\n",
    "        arr_des = (desviation - mean)**2\n",
    "        arr_desviation.append(arr_des)\n",
    "    \n",
    "    for sum_total in arr_desviation:\n",
    "        suma_total += sum_total\n",
    "        \n",
    "    mean_des = (suma_total / le_number)\n",
    "    standard_desviation = (mean_des / le_number)**(0.5)\n",
    "    \n",
    "    return standard_desviation\n",
    "    \n",
    "        "
   ]
  },
  {
   "cell_type": "code",
   "execution_count": 14,
   "metadata": {},
   "outputs": [
    {
     "data": {
      "text/plain": [
       "0.5357259130790695"
      ]
     },
     "execution_count": 14,
     "metadata": {},
     "output_type": "execute_result"
    }
   ],
   "source": [
    "st_dev([1,2,3,4,3,2,2,4,5,6,7])"
   ]
  },
  {
   "cell_type": "code",
   "execution_count": 47,
   "metadata": {},
   "outputs": [],
   "source": [
    "list = [1,2,3,4,3,2,2,4,5]"
   ]
  },
  {
   "cell_type": "code",
   "execution_count": 48,
   "metadata": {},
   "outputs": [],
   "source": [
    "def st_dev(arr):\n",
    "    total = 0\n",
    "    le_number = 0\n",
    "    suma_total = 0\n",
    "    arr_desviation = []\n",
    "    for numeros in arr:\n",
    "        total += numeros\n",
    "        le_number += 1\n",
    "    \n",
    "    mean = total/le_number\n",
    "    \n",
    "    for desviation in arr:\n",
    "        arr_des = (desviation-mean)**2\n",
    "        arr_desviation.append(arr_des)\n",
    "    \n",
    "    for sum_total in arr_desviation:\n",
    "        suma_total += sum_total\n",
    "    mean_des = (suma_total / le_number)\n",
    "    standard_desviation = mean_des**(0.5)\n",
    "    \n",
    "    return standard_desviation\n"
   ]
  },
  {
   "cell_type": "code",
   "execution_count": 49,
   "metadata": {},
   "outputs": [
    {
     "data": {
      "text/plain": [
       "1.1967032904743342"
      ]
     },
     "execution_count": 49,
     "metadata": {},
     "output_type": "execute_result"
    }
   ],
   "source": [
    "st_dev(list)"
   ]
  },
  {
   "cell_type": "code",
   "execution_count": 1,
   "metadata": {},
   "outputs": [],
   "source": [
    "def pangram(string):\n",
    "    alphabet = \"abcdefghijklmnopqrstuvwxyz\"\n",
    "    num_al = 0\n",
    "    pangram_list = []\n",
    "    pangram_count = 0\n",
    "    for al in alphabet:\n",
    "        num_al += 1\n",
    "     \n",
    "    for uniques in string:\n",
    "        if uniques in alphabet:\n",
    "            if uniques not in pangram_list:\n",
    "                pangram_list.append(uniques) \n",
    "    \n",
    "    for i in pangram_list:\n",
    "        for t in alphabet:\n",
    "            if i in t:\n",
    "                pangram_count += 1\n",
    "                \n",
    "    if pangram_count == num_al:\n",
    "        return True\n",
    "                \n",
    "    else:\n",
    "        return False"
   ]
  },
  {
   "cell_type": "code",
   "execution_count": 2,
   "metadata": {},
   "outputs": [
    {
     "data": {
      "text/plain": [
       "False"
      ]
     },
     "execution_count": 2,
     "metadata": {},
     "output_type": "execute_result"
    }
   ],
   "source": [
    "pangram(\"rvdfjkvnklvms\")"
   ]
  },
  {
   "cell_type": "code",
   "execution_count": 3,
   "metadata": {},
   "outputs": [
    {
     "data": {
      "text/plain": [
       "True"
      ]
     },
     "execution_count": 3,
     "metadata": {},
     "output_type": "execute_result"
    }
   ],
   "source": [
    "pangram(\"abcdefghijklmnopqrstuvwxyz\")"
   ]
  },
  {
   "cell_type": "code",
   "execution_count": 4,
   "metadata": {},
   "outputs": [
    {
     "data": {
      "text/plain": [
       "False"
      ]
     },
     "execution_count": 4,
     "metadata": {},
     "output_type": "execute_result"
    }
   ],
   "source": [
    "pangram(\"aaaaadddddffffdddeeknlkdklc sdklcedc lc d ccc   dcdcd\")"
   ]
  },
  {
   "cell_type": "code",
   "execution_count": 7,
   "metadata": {},
   "outputs": [
    {
     "data": {
      "text/plain": [
       "False"
      ]
     },
     "execution_count": 7,
     "metadata": {},
     "output_type": "execute_result"
    }
   ],
   "source": [
    "pangram(\"aaaaqqqqzzzzxxxxsssswwwweeeedddccvvffrrttggbbnnhhyyuujjmmkkiioollññ\")"
   ]
  },
  {
   "cell_type": "code",
   "execution_count": null,
   "metadata": {},
   "outputs": [],
   "source": []
  }
 ],
 "metadata": {
  "kernelspec": {
   "display_name": "Python 3",
   "language": "python",
   "name": "python3"
  },
  "language_info": {
   "codemirror_mode": {
    "name": "ipython",
    "version": 3
   },
   "file_extension": ".py",
   "mimetype": "text/x-python",
   "name": "python",
   "nbconvert_exporter": "python",
   "pygments_lexer": "ipython3",
   "version": "3.8.5"
  }
 },
 "nbformat": 4,
 "nbformat_minor": 4
}
